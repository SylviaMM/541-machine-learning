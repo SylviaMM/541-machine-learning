{
  "nbformat": 4,
  "nbformat_minor": 0,
  "metadata": {
    "colab": {
      "name": "541 A2 Q5.ipynb",
      "provenance": [],
      "collapsed_sections": []
    },
    "kernelspec": {
      "name": "python3",
      "display_name": "Python 3"
    },
    "language_info": {
      "name": "python"
    }
  },
  "cells": [
    {
      "cell_type": "code",
      "execution_count": 1,
      "metadata": {
        "id": "5Uj9h5evsZhm",
        "colab": {
          "base_uri": "https://localhost:8080/",
          "height": 0
        },
        "outputId": "de5de72e-df85-4f60-e442-ae900565ea03"
      },
      "outputs": [
        {
          "output_type": "stream",
          "name": "stdout",
          "text": [
            "Mounted at /content/drive\n"
          ]
        }
      ],
      "source": [
        "from google.colab import drive\n",
        "drive.mount('/content/drive')"
      ]
    },
    {
      "cell_type": "code",
      "source": [
        "%pylab inline\n",
        "%config InlineBackend.figure_format = 'retina'\n",
        "from ipywidgets import interact\n",
        "\n",
        "import pandas as pd\n",
        "import numpy as np\n",
        "\n",
        "from sklearn.neural_network import MLPClassifier\n",
        "from sklearn.model_selection import cross_validate\n",
        "from sklearn.model_selection import KFold\n"
      ],
      "metadata": {
        "colab": {
          "base_uri": "https://localhost:8080/",
          "height": 0
        },
        "id": "N4mUbAkiM8OO",
        "outputId": "9908900f-b154-40e4-ff43-18dc128f651b"
      },
      "execution_count": 2,
      "outputs": [
        {
          "output_type": "stream",
          "name": "stdout",
          "text": [
            "Populating the interactive namespace from numpy and matplotlib\n"
          ]
        }
      ]
    },
    {
      "cell_type": "code",
      "source": [
        "train = pd.read_csv('/content/drive/My Drive/541A2/WineQT_train.csv', sep=\",\", header=0)\n",
        "test = pd.read_csv('/content/drive/My Drive/541A2/WineQT_test.csv', sep=\",\", header=0)"
      ],
      "metadata": {
        "id": "NgpPlFJ0M_Oy"
      },
      "execution_count": 4,
      "outputs": []
    },
    {
      "cell_type": "code",
      "source": [
        "train_x=train.iloc[:,:-1]\n",
        "train_y=train.iloc[:,-1]\n",
        "test_x=test.iloc[:,:-1]\n",
        "test_y=test.iloc[:,-1]"
      ],
      "metadata": {
        "id": "hdew8vw5N99y"
      },
      "execution_count": 5,
      "outputs": []
    },
    {
      "cell_type": "code",
      "source": [
        "# standardize train.x\n",
        "columns = train_x.columns\n",
        "train_x[columns] = (train_x[columns] - train_x[columns].mean())/train_x[columns].std()\n",
        "# standardize test.x\n",
        "columns = test_x.columns\n",
        "test_x[columns] = (test_x[columns] - test_x[columns].mean())/test_x[columns].std()"
      ],
      "metadata": {
        "id": "6AMN0nH2XCye"
      },
      "execution_count": 6,
      "outputs": []
    },
    {
      "cell_type": "code",
      "source": [
        "### hidden_layer_sizes = (10,10,10,10,10,10,10,10,10,10)\n",
        "kf = KFold(n_splits=10)\n",
        "best_score = 0\n",
        "best_model = None\n",
        "for train_index, val_index in kf.split(train_x):\n",
        "  clf = MLPClassifier(random_state=0, max_iter=300, hidden_layer_sizes = (10,10,10,10,10,10,10,10,10,10))\n",
        "  X_train, X_val = train_x.iloc[train_index], train_x.iloc[val_index]\n",
        "  y_train, y_val = train_y.iloc[train_index], train_y.iloc[val_index]\n",
        "  clf.fit(X_train, y_train)\n",
        "  val_score = clf.score(X_val, y_val)\n",
        "\n",
        "  if val_score > best_score:\n",
        "    best_model = clf\n",
        "\n",
        "best_model.predict(test_x)\n",
        "best_model.score(test_x, test_y)"
      ],
      "metadata": {
        "colab": {
          "base_uri": "https://localhost:8080/",
          "height": 0
        },
        "id": "laU9m-Nwf9Rf",
        "outputId": "92fb5b18-45f3-4d25-868f-8493e0eb427d"
      },
      "execution_count": 12,
      "outputs": [
        {
          "output_type": "stream",
          "name": "stderr",
          "text": [
            "/usr/local/lib/python3.7/dist-packages/sklearn/neural_network/_multilayer_perceptron.py:696: ConvergenceWarning: Stochastic Optimizer: Maximum iterations (300) reached and the optimization hasn't converged yet.\n",
            "  ConvergenceWarning,\n",
            "/usr/local/lib/python3.7/dist-packages/sklearn/neural_network/_multilayer_perceptron.py:696: ConvergenceWarning: Stochastic Optimizer: Maximum iterations (300) reached and the optimization hasn't converged yet.\n",
            "  ConvergenceWarning,\n",
            "/usr/local/lib/python3.7/dist-packages/sklearn/neural_network/_multilayer_perceptron.py:696: ConvergenceWarning: Stochastic Optimizer: Maximum iterations (300) reached and the optimization hasn't converged yet.\n",
            "  ConvergenceWarning,\n",
            "/usr/local/lib/python3.7/dist-packages/sklearn/neural_network/_multilayer_perceptron.py:696: ConvergenceWarning: Stochastic Optimizer: Maximum iterations (300) reached and the optimization hasn't converged yet.\n",
            "  ConvergenceWarning,\n",
            "/usr/local/lib/python3.7/dist-packages/sklearn/neural_network/_multilayer_perceptron.py:696: ConvergenceWarning: Stochastic Optimizer: Maximum iterations (300) reached and the optimization hasn't converged yet.\n",
            "  ConvergenceWarning,\n",
            "/usr/local/lib/python3.7/dist-packages/sklearn/neural_network/_multilayer_perceptron.py:696: ConvergenceWarning: Stochastic Optimizer: Maximum iterations (300) reached and the optimization hasn't converged yet.\n",
            "  ConvergenceWarning,\n"
          ]
        },
        {
          "output_type": "execute_result",
          "data": {
            "text/plain": [
              "0.6507936507936508"
            ]
          },
          "metadata": {},
          "execution_count": 12
        }
      ]
    },
    {
      "cell_type": "code",
      "source": [
        "# clf1 = MLPClassifier(random_state=1, max_iter=300, hidden_layer_sizes = 1).fit(train_x, train_y)\n",
        "# cv1 = cross_validate(clf1, train_x, train_y, cv=10)\n",
        "# cv1['test_score']\n",
        "\n",
        "# clf1.predict(test_x)\n",
        "# clf1.score(test_x, test_y)"
      ],
      "metadata": {
        "id": "Dp-F74n4R2Pf"
      },
      "execution_count": 11,
      "outputs": []
    }
  ]
}